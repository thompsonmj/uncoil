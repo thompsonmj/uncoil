{
 "cells": [
  {
   "cell_type": "markdown",
   "id": "91578438",
   "metadata": {},
   "source": [
    "# Notebook Title\n",
    "Description"
   ]
  },
  {
   "cell_type": "code",
   "execution_count": null,
   "id": "00c6e035",
   "metadata": {
    "vscode": {
     "languageId": "plaintext"
    }
   },
   "outputs": [],
   "source": [
    "# Code cell\n",
    "\n",
    "a=1\n",
    "b=1\n",
    "c=a+b\n",
    "print(f\"Sum: {c}\")\n",
    "\n",
    "print(\"fixture works\")"
   ]
  }
 ],
 "metadata": {
  "language_info": {
   "name": "python"
  }
 },
 "nbformat": 4,
 "nbformat_minor": 5
}
